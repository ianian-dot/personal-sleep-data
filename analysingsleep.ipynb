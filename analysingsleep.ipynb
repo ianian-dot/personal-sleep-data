{
 "cells": [
  {
   "cell_type": "markdown",
   "metadata": {},
   "source": [
    "# Ian Sleep Project : tracking deep sleep"
   ]
  },
  {
   "cell_type": "markdown",
   "metadata": {},
   "source": [
    "Project outline\n",
    "\n",
    "* Objective : for my personal understanding of deep sleep, its variance and its predictors. As a bit of a sleep nerd, I want to know what factors influence my deep sleep, so that I can best optimise my life around maximising deep sleep. \n",
    "\n",
    "* Rationale/ Incentive for project : have always been interested in sleep since a young age. Even in high school, where the pressures of juggling extra cirricular activities such as sports and academic workload nudged many of my peers into developing poor sleep habits or sleeping less, I have always prioritised sleep. \n",
    "\n",
    "I am highly sensitive to sleep, often finding myself deeply affected in terms of mood, motivation and focus whenever I fail to get enough hours. Although I have been able to mitigate that in recent times by simply not thinking too much about the amount of sleep I have gotten if I failed to sleep enough the night before (psychological/placebo effect), this is still an area I would want to optimise in order to not lose out on too many happier and productive days. \n",
    "\n",
    "* Data: \n",
    "\n",
    "    * Outcome variable : Deep sleep (minutes)\n",
    "\n",
    "    * Factors considered \n",
    "        1. Exercise and calories burnt \n",
    "        2. Alcohol\n",
    "        3. Gaming \n",
    "        4. Caffeine\n",
    "        5. Eating before sleeping (personal addiction)\n",
    "\n",
    "* Data collection methods \n",
    "    * Deep sleep amount: AutoSleep app on Apple Watch SE (occasionally cross checked against Health app)\n",
    "    * Exercise and calories burnt: Activity/Fitness/Health app on Apple Watch SE and iPhone \n",
    "    * Coffee: conversion to caffeine in mg is tricky due to extraction/brewing method. Currently mainly using pourover with V60, and due to variations in pour methods it is hard to pinpoint a value for the amount of caffeine. \n",
    "    * Gaming and alcohol: currently for simplicity, capturing the rough amount of alcohol for my personal taste/tolerance. Unlikely to be generalised to the general alcohol consumer since I drink quite little. Also captured hours to sleep to factor in the amount of time for alcohol to be broken down and removed from the system. For gaming, only capturing an indication variable of whether I gamed or not, and the time I stopped.\n",
    "\n",
    "Data was collected into a google sheet via the use of a google form. "
   ]
  },
  {
   "cell_type": "code",
   "execution_count": 199,
   "metadata": {},
   "outputs": [],
   "source": [
    "def corr_stats_print(x1,x2):\n",
    "    spearman_corr, p_value = stats.spearmanr(df[cat1], df[cat2])\n",
    "    print(\"Spearman correlation:\", spearman_corr, \"P-value:\", p_value)\n",
    "\n",
    "    pearson, p_value = stats.pearsonr(df[cat1], df[cat2])\n",
    "    print(\"Pearson correlation:\", pearson, \"P-value:\", p_value)\n"
   ]
  },
  {
   "cell_type": "markdown",
   "metadata": {},
   "source": [
    "## Step 1: download required libraries (and steps to create an API for google account) to read over the tracked data "
   ]
  },
  {
   "cell_type": "code",
   "execution_count": 56,
   "metadata": {},
   "outputs": [],
   "source": [
    "# !pip install gspread oauth2client df2gspread"
   ]
  },
  {
   "cell_type": "markdown",
   "metadata": {},
   "source": [
    "Code to read in data\n",
    "\n",
    "Code taken from https://medium.com/@techno021/integrate-google-sheets-with-jupyter-notebook-e25a4c349828"
   ]
  },
  {
   "cell_type": "code",
   "execution_count": 201,
   "metadata": {},
   "outputs": [],
   "source": [
    "import gspread\n",
    "import pandas as pd\n",
    "import matplotlib.pyplot as plt\n",
    "from oauth2client.service_account import ServiceAccountCredentials\n",
    "import seaborn as sns\n",
    "\n",
    "import scipy.stats as stats\n"
   ]
  },
  {
   "cell_type": "code",
   "execution_count": 58,
   "metadata": {},
   "outputs": [],
   "source": [
    "spreadsheet_key = \"1P8QXlvv3gB0A4ZSXc9h6yAs-O0Q-c67T4s7TCnvmCHM\"\n",
    "scope = \"https://spreadsheets.google.com/feeds\"\n",
    "credentials = ServiceAccountCredentials.from_json_keyfile_name(\"./ian-sleep-tracker-a0427f1cbee8.json\", scope)\n",
    "worksheet = gspread.authorize(credentials).open_by_key(spreadsheet_key).worksheet(\"Form responses 1\")\n",
    "data = worksheet.get_all_values()\n",
    "headers = data.pop(0)\n",
    "df = pd.DataFrame(data, columns=headers)"
   ]
  },
  {
   "cell_type": "markdown",
   "metadata": {},
   "source": [
    "### Check data"
   ]
  },
  {
   "cell_type": "code",
   "execution_count": 59,
   "metadata": {},
   "outputs": [
    {
     "data": {
      "text/html": [
       "<div>\n",
       "<style scoped>\n",
       "    .dataframe tbody tr th:only-of-type {\n",
       "        vertical-align: middle;\n",
       "    }\n",
       "\n",
       "    .dataframe tbody tr th {\n",
       "        vertical-align: top;\n",
       "    }\n",
       "\n",
       "    .dataframe thead th {\n",
       "        text-align: right;\n",
       "    }\n",
       "</style>\n",
       "<table border=\"1\" class=\"dataframe\">\n",
       "  <thead>\n",
       "    <tr style=\"text-align: right;\">\n",
       "      <th></th>\n",
       "      <th>Timestamp</th>\n",
       "      <th>Sleep quality</th>\n",
       "      <th>Deep Sleep duration</th>\n",
       "      <th>Alcohol</th>\n",
       "      <th>Alcohol hours before bed</th>\n",
       "      <th>Full before bed?</th>\n",
       "      <th>Music while sleeping?</th>\n",
       "      <th>Type of music</th>\n",
       "      <th>Caffiene</th>\n",
       "      <th>Exercise</th>\n",
       "      <th>...</th>\n",
       "      <th>Date of the night</th>\n",
       "      <th>chamomile</th>\n",
       "      <th>Coffee Type</th>\n",
       "      <th>Other</th>\n",
       "      <th>Amount of sleep (hours:mins)</th>\n",
       "      <th></th>\n",
       "      <th>blackout eye mask?</th>\n",
       "      <th>Melatonin?</th>\n",
       "      <th>REM sleep</th>\n",
       "      <th>Other</th>\n",
       "    </tr>\n",
       "  </thead>\n",
       "  <tbody>\n",
       "    <tr>\n",
       "      <th>0</th>\n",
       "      <td>27/02/2024 20:04:17</td>\n",
       "      <td>Bad</td>\n",
       "      <td>19</td>\n",
       "      <td>None</td>\n",
       "      <td>NA</td>\n",
       "      <td>Yes</td>\n",
       "      <td>Yes</td>\n",
       "      <td>Sleep classical</td>\n",
       "      <td>Morning</td>\n",
       "      <td>Gym</td>\n",
       "      <td>...</td>\n",
       "      <td></td>\n",
       "      <td></td>\n",
       "      <td></td>\n",
       "      <td></td>\n",
       "      <td>07:17:00</td>\n",
       "      <td></td>\n",
       "      <td></td>\n",
       "      <td></td>\n",
       "      <td></td>\n",
       "      <td></td>\n",
       "    </tr>\n",
       "    <tr>\n",
       "      <th>1</th>\n",
       "      <td>26/02/2024 20:08:45</td>\n",
       "      <td>Good</td>\n",
       "      <td>59</td>\n",
       "      <td>Yes</td>\n",
       "      <td>7</td>\n",
       "      <td>No</td>\n",
       "      <td>Yes</td>\n",
       "      <td></td>\n",
       "      <td>Morning</td>\n",
       "      <td>Football</td>\n",
       "      <td>...</td>\n",
       "      <td>25/02/2024</td>\n",
       "      <td></td>\n",
       "      <td></td>\n",
       "      <td></td>\n",
       "      <td>07:46:00</td>\n",
       "      <td></td>\n",
       "      <td></td>\n",
       "      <td></td>\n",
       "      <td></td>\n",
       "      <td></td>\n",
       "    </tr>\n",
       "    <tr>\n",
       "      <th>2</th>\n",
       "      <td>28/02/2024 08:20:33</td>\n",
       "      <td>Good</td>\n",
       "      <td>54</td>\n",
       "      <td>None</td>\n",
       "      <td></td>\n",
       "      <td>No</td>\n",
       "      <td>Yes</td>\n",
       "      <td>Binaural beats</td>\n",
       "      <td>Morning</td>\n",
       "      <td></td>\n",
       "      <td>...</td>\n",
       "      <td></td>\n",
       "      <td></td>\n",
       "      <td></td>\n",
       "      <td></td>\n",
       "      <td>08:14:30</td>\n",
       "      <td></td>\n",
       "      <td></td>\n",
       "      <td></td>\n",
       "      <td></td>\n",
       "      <td></td>\n",
       "    </tr>\n",
       "    <tr>\n",
       "      <th>3</th>\n",
       "      <td>29/02/2024 08:13:59</td>\n",
       "      <td>Good</td>\n",
       "      <td>58</td>\n",
       "      <td>Yes</td>\n",
       "      <td>2</td>\n",
       "      <td>No</td>\n",
       "      <td>Yes</td>\n",
       "      <td>Sleeping jazz</td>\n",
       "      <td>Morning</td>\n",
       "      <td>Football + Gym</td>\n",
       "      <td>...</td>\n",
       "      <td></td>\n",
       "      <td>Chamomile after 10</td>\n",
       "      <td>Half flat white</td>\n",
       "      <td></td>\n",
       "      <td>09:30:00</td>\n",
       "      <td></td>\n",
       "      <td></td>\n",
       "      <td></td>\n",
       "      <td></td>\n",
       "      <td></td>\n",
       "    </tr>\n",
       "    <tr>\n",
       "      <th>4</th>\n",
       "      <td>01/03/2024 09:07:22</td>\n",
       "      <td>Good</td>\n",
       "      <td>69</td>\n",
       "      <td>None</td>\n",
       "      <td></td>\n",
       "      <td>No</td>\n",
       "      <td>Yes</td>\n",
       "      <td>Binaural</td>\n",
       "      <td>Morning</td>\n",
       "      <td></td>\n",
       "      <td>...</td>\n",
       "      <td></td>\n",
       "      <td>Chamomile at 8 pm</td>\n",
       "      <td>Half flat white</td>\n",
       "      <td></td>\n",
       "      <td>07:40:30</td>\n",
       "      <td></td>\n",
       "      <td></td>\n",
       "      <td></td>\n",
       "      <td></td>\n",
       "      <td></td>\n",
       "    </tr>\n",
       "  </tbody>\n",
       "</table>\n",
       "<p>5 rows × 22 columns</p>\n",
       "</div>"
      ],
      "text/plain": [
       "             Timestamp Sleep quality Deep Sleep duration Alcohol  \\\n",
       "0  27/02/2024 20:04:17           Bad                  19    None   \n",
       "1  26/02/2024 20:08:45          Good                  59     Yes   \n",
       "2  28/02/2024 08:20:33          Good                  54    None   \n",
       "3  29/02/2024 08:13:59          Good                  58     Yes   \n",
       "4  01/03/2024 09:07:22          Good                  69    None   \n",
       "\n",
       "  Alcohol hours before bed  Full before bed? Music while sleeping?  \\\n",
       "0                        NA              Yes                   Yes   \n",
       "1                         7               No                   Yes   \n",
       "2                                         No                   Yes   \n",
       "3                         2               No                   Yes   \n",
       "4                                         No                   Yes   \n",
       "\n",
       "    Type of music  Caffiene        Exercise  ... Date of the night  \\\n",
       "0  Sleep classical  Morning             Gym  ...                     \n",
       "1                   Morning        Football  ...        25/02/2024   \n",
       "2   Binaural beats  Morning                  ...                     \n",
       "3   Sleeping jazz   Morning  Football + Gym  ...                     \n",
       "4        Binaural   Morning                  ...                     \n",
       "\n",
       "            chamomile      Coffee Type Other Amount of sleep (hours:mins)    \\\n",
       "0                                                                07:17:00     \n",
       "1                                                                07:46:00     \n",
       "2                                                                08:14:30     \n",
       "3  Chamomile after 10  Half flat white                           09:30:00     \n",
       "4   Chamomile at 8 pm  Half flat white                           07:40:30     \n",
       "\n",
       "  blackout eye mask? Melatonin? REM sleep Other   \n",
       "0                                                 \n",
       "1                                                 \n",
       "2                                                 \n",
       "3                                                 \n",
       "4                                                 \n",
       "\n",
       "[5 rows x 22 columns]"
      ]
     },
     "execution_count": 59,
     "metadata": {},
     "output_type": "execute_result"
    }
   ],
   "source": [
    "df.head()"
   ]
  },
  {
   "cell_type": "code",
   "execution_count": 60,
   "metadata": {},
   "outputs": [
    {
     "data": {
      "text/html": [
       "<div>\n",
       "<style scoped>\n",
       "    .dataframe tbody tr th:only-of-type {\n",
       "        vertical-align: middle;\n",
       "    }\n",
       "\n",
       "    .dataframe tbody tr th {\n",
       "        vertical-align: top;\n",
       "    }\n",
       "\n",
       "    .dataframe thead th {\n",
       "        text-align: right;\n",
       "    }\n",
       "</style>\n",
       "<table border=\"1\" class=\"dataframe\">\n",
       "  <thead>\n",
       "    <tr style=\"text-align: right;\">\n",
       "      <th></th>\n",
       "      <th>Timestamp</th>\n",
       "      <th>Sleep quality</th>\n",
       "      <th>Deep Sleep duration</th>\n",
       "      <th>Alcohol</th>\n",
       "      <th>Alcohol hours before bed</th>\n",
       "      <th>Full before bed?</th>\n",
       "      <th>Music while sleeping?</th>\n",
       "      <th>Type of music</th>\n",
       "      <th>Caffiene</th>\n",
       "      <th>Exercise</th>\n",
       "      <th>...</th>\n",
       "      <th>Date of the night</th>\n",
       "      <th>chamomile</th>\n",
       "      <th>Coffee Type</th>\n",
       "      <th>Other</th>\n",
       "      <th>Amount of sleep (hours:mins)</th>\n",
       "      <th></th>\n",
       "      <th>blackout eye mask?</th>\n",
       "      <th>Melatonin?</th>\n",
       "      <th>REM sleep</th>\n",
       "      <th>Other</th>\n",
       "    </tr>\n",
       "  </thead>\n",
       "  <tbody>\n",
       "    <tr>\n",
       "      <th>46</th>\n",
       "      <td>03/05/2024 09:40:19</td>\n",
       "      <td>OK</td>\n",
       "      <td>36</td>\n",
       "      <td>None</td>\n",
       "      <td></td>\n",
       "      <td>Yes</td>\n",
       "      <td>Yes</td>\n",
       "      <td>Binaural</td>\n",
       "      <td>Morning</td>\n",
       "      <td>Gym</td>\n",
       "      <td>...</td>\n",
       "      <td></td>\n",
       "      <td>Yes (After 10)</td>\n",
       "      <td>Usual (11g)</td>\n",
       "      <td></td>\n",
       "      <td>8:0</td>\n",
       "      <td></td>\n",
       "      <td>No</td>\n",
       "      <td></td>\n",
       "      <td></td>\n",
       "      <td></td>\n",
       "    </tr>\n",
       "    <tr>\n",
       "      <th>47</th>\n",
       "      <td>08/05/2024 18:01:39</td>\n",
       "      <td>OK</td>\n",
       "      <td>52</td>\n",
       "      <td>None</td>\n",
       "      <td></td>\n",
       "      <td>No</td>\n",
       "      <td>Yes</td>\n",
       "      <td>Binaural</td>\n",
       "      <td>Morning</td>\n",
       "      <td>Football</td>\n",
       "      <td>...</td>\n",
       "      <td></td>\n",
       "      <td>None</td>\n",
       "      <td>Little</td>\n",
       "      <td>Struggled to sleep - likely due to over exerti...</td>\n",
       "      <td>7:30</td>\n",
       "      <td></td>\n",
       "      <td>Yes</td>\n",
       "      <td>Yes</td>\n",
       "      <td></td>\n",
       "      <td></td>\n",
       "    </tr>\n",
       "    <tr>\n",
       "      <th>48</th>\n",
       "      <td>09/05/2024 09:39:50</td>\n",
       "      <td>OK</td>\n",
       "      <td>38</td>\n",
       "      <td>None</td>\n",
       "      <td></td>\n",
       "      <td>Yes</td>\n",
       "      <td>No</td>\n",
       "      <td></td>\n",
       "      <td>Morning</td>\n",
       "      <td>Gym</td>\n",
       "      <td>...</td>\n",
       "      <td></td>\n",
       "      <td>Yes (After 10)</td>\n",
       "      <td>Usual (11g)</td>\n",
       "      <td>Struggled to fall asleep</td>\n",
       "      <td>6:30</td>\n",
       "      <td></td>\n",
       "      <td>Yes</td>\n",
       "      <td></td>\n",
       "      <td></td>\n",
       "      <td></td>\n",
       "    </tr>\n",
       "    <tr>\n",
       "      <th>49</th>\n",
       "      <td>15/05/2024 13:19:41</td>\n",
       "      <td>Good</td>\n",
       "      <td>35</td>\n",
       "      <td>None</td>\n",
       "      <td></td>\n",
       "      <td>No</td>\n",
       "      <td>Yes</td>\n",
       "      <td>Relaxing jazz</td>\n",
       "      <td>Morning</td>\n",
       "      <td>Gym</td>\n",
       "      <td>...</td>\n",
       "      <td></td>\n",
       "      <td>Yes (After 10)</td>\n",
       "      <td>Usual (11g)</td>\n",
       "      <td></td>\n",
       "      <td>7:45</td>\n",
       "      <td></td>\n",
       "      <td>Yes</td>\n",
       "      <td></td>\n",
       "      <td></td>\n",
       "      <td></td>\n",
       "    </tr>\n",
       "    <tr>\n",
       "      <th>50</th>\n",
       "      <td>16/05/2024 08:38:33</td>\n",
       "      <td>OK</td>\n",
       "      <td>83</td>\n",
       "      <td>None</td>\n",
       "      <td></td>\n",
       "      <td>No</td>\n",
       "      <td>Yes</td>\n",
       "      <td>White noise</td>\n",
       "      <td>Morning</td>\n",
       "      <td>Gym</td>\n",
       "      <td>...</td>\n",
       "      <td></td>\n",
       "      <td>Yes (After 10)</td>\n",
       "      <td>Usual (11g)</td>\n",
       "      <td></td>\n",
       "      <td>8:0</td>\n",
       "      <td></td>\n",
       "      <td>Yes</td>\n",
       "      <td></td>\n",
       "      <td></td>\n",
       "      <td></td>\n",
       "    </tr>\n",
       "  </tbody>\n",
       "</table>\n",
       "<p>5 rows × 22 columns</p>\n",
       "</div>"
      ],
      "text/plain": [
       "              Timestamp Sleep quality Deep Sleep duration Alcohol  \\\n",
       "46  03/05/2024 09:40:19            OK                  36    None   \n",
       "47  08/05/2024 18:01:39            OK                  52    None   \n",
       "48  09/05/2024 09:39:50            OK                  38    None   \n",
       "49  15/05/2024 13:19:41          Good                  35    None   \n",
       "50  16/05/2024 08:38:33            OK                  83    None   \n",
       "\n",
       "   Alcohol hours before bed  Full before bed? Music while sleeping?  \\\n",
       "46                                        Yes                   Yes   \n",
       "47                                         No                   Yes   \n",
       "48                                        Yes                    No   \n",
       "49                                         No                   Yes   \n",
       "50                                         No                   Yes   \n",
       "\n",
       "   Type of music  Caffiene  Exercise  ... Date of the night       chamomile  \\\n",
       "46       Binaural  Morning       Gym  ...                    Yes (After 10)   \n",
       "47       Binaural  Morning  Football  ...                              None   \n",
       "48                 Morning       Gym  ...                    Yes (After 10)   \n",
       "49  Relaxing jazz  Morning       Gym  ...                    Yes (After 10)   \n",
       "50    White noise  Morning       Gym  ...                    Yes (After 10)   \n",
       "\n",
       "    Coffee Type                                              Other  \\\n",
       "46  Usual (11g)                                                      \n",
       "47       Little  Struggled to sleep - likely due to over exerti...   \n",
       "48  Usual (11g)                           Struggled to fall asleep   \n",
       "49  Usual (11g)                                                      \n",
       "50  Usual (11g)                                                      \n",
       "\n",
       "   Amount of sleep (hours:mins)   blackout eye mask? Melatonin? REM sleep  \\\n",
       "46                          8:0                   No                        \n",
       "47                         7:30                  Yes        Yes             \n",
       "48                         6:30                  Yes                        \n",
       "49                         7:45                  Yes                        \n",
       "50                          8:0                  Yes                        \n",
       "\n",
       "   Other   \n",
       "46         \n",
       "47         \n",
       "48         \n",
       "49         \n",
       "50         \n",
       "\n",
       "[5 rows x 22 columns]"
      ]
     },
     "execution_count": 60,
     "metadata": {},
     "output_type": "execute_result"
    }
   ],
   "source": [
    "df.tail()"
   ]
  },
  {
   "cell_type": "markdown",
   "metadata": {},
   "source": [
    "### Basic data wrangling: Creating a more readable date column and a day column"
   ]
  },
  {
   "cell_type": "code",
   "execution_count": 61,
   "metadata": {},
   "outputs": [],
   "source": [
    "import datetime \n",
    "\n",
    "df['Timestamp'].apply(lambda x:type(x)).value_counts() ## type is read by python as string\n",
    "\n",
    "## Create 'Date of night' column \n",
    "df['Date of night'] = df['Timestamp'].str[0:10]\n",
    "## Check\n",
    "df['Date of night'].head()\n",
    "\n",
    "## Create a day column\n",
    "df['Date of night'] = pd.to_datetime(df['Date of night'], format='%d/%m/%Y')\n",
    "df['day_of_week'] = df['Date of night'].dt.strftime('%a')"
   ]
  },
  {
   "cell_type": "code",
   "execution_count": 62,
   "metadata": {},
   "outputs": [
    {
     "name": "stdout",
     "output_type": "stream",
     "text": [
      "How many nights worth of data so far? : \n",
      " 51\n",
      "From when to when? : \n",
      " 26 Feb 24 to 16 May 24\n"
     ]
    }
   ],
   "source": [
    "print(f'How many nights worth of data so far? : \\n {df.shape[0]}')\n",
    "print(f\"From when to when? : \\n {min(df['Date of night']).strftime('%d %b %y')} to {max(df['Date of night']).strftime('%d %b %y')}\" )"
   ]
  },
  {
   "cell_type": "markdown",
   "metadata": {},
   "source": [
    "## Missing days analysis "
   ]
  },
  {
   "cell_type": "code",
   "execution_count": 63,
   "metadata": {},
   "outputs": [
    {
     "name": "stdout",
     "output_type": "stream",
     "text": [
      "Missing dates: ['01 Apr', '02 Apr', '02 May', '03 Apr', '04 Apr', '04 May', '05 Apr', '05 May', '06 Apr', '06 May', '07 Apr', '07 May', '08 Apr', '09 Apr', '10 May', '11 May', '12 May', '13 May', '14 May', '17 Mar', '18 Mar', '19 Apr', '19 Mar', '23 Apr', '24 Mar', '25 Mar', '26 Apr', '28 Mar', '29 Mar', '31 Mar']\n",
      "Prop of dates missed: 58.82%\n"
     ]
    }
   ],
   "source": [
    "## Generate a full date range (all dates from start to end of sleep tracker)\n",
    "full_date_range = pd.date_range(df['Date of night'].min(), df_full_dates_full_dates_full_dates_full_dates_full_dates_full_dates_full_dates['Date of night'].max())\n",
    "full_date_range_set = set(full_date_range)\n",
    "\n",
    "## Compare to existing data for dates\n",
    "my_date_range_set = set(df['Date of night'])\n",
    "\n",
    "## Missing dates \n",
    "missing_dates = full_date_range_set - my_date_range_set\n",
    "print(f'Missing dates: {sorted([missing_date.strftime(\"%d %b\") for missing_date in missing_dates])}')\n",
    "## Missing proportion \n",
    "print(f\"Prop of dates missed: {len(missing_dates)/df.shape[0]:.2%}\")"
   ]
  },
  {
   "cell_type": "markdown",
   "metadata": {},
   "source": [
    "Missing dates details\n",
    "* Didn't record for 17-19 Mar due to jet lag, would have been anomalies.\n",
    "* Fell sick around 27 Mar for a few days"
   ]
  },
  {
   "cell_type": "markdown",
   "metadata": {},
   "source": [
    "### Cleaning : converting data types "
   ]
  },
  {
   "cell_type": "code",
   "execution_count": 64,
   "metadata": {},
   "outputs": [],
   "source": [
    "## Clean col names -- remove trailing white spaces \n",
    "df.columns = [col.strip() for col in df.columns]\n",
    "\n",
    "## Change amount of sleep name to just 'Amount of sleep)\n",
    "df.rename(columns= {'Amount of sleep (hours:mins)': 'Amount of sleep'}, inplace= True)"
   ]
  },
  {
   "cell_type": "code",
   "execution_count": 66,
   "metadata": {},
   "outputs": [
    {
     "name": "stdout",
     "output_type": "stream",
     "text": [
      "Index(['Deep Sleep duration', 'Alcohol hours before bed', 'Calories count'], dtype='object')\n"
     ]
    }
   ],
   "source": [
    "## Numeric col types -- except hours of sleep, since requires a bit of wrangling\n",
    "numeric_cols_indices = [2, 4, 10]\n",
    "print(df.columns[numeric_cols_indices])\n",
    "for num_col in df.columns[numeric_cols_indices]:\n",
    "    df[num_col] = pd.to_numeric(df[num_col], errors='coerce')"
   ]
  },
  {
   "cell_type": "code",
   "execution_count": 67,
   "metadata": {},
   "outputs": [],
   "source": [
    "## Handling amount of sleep\n",
    "## format of AoS: hh:mm:ss\n",
    "df['Amount of sleep hours'] = [pd.to_numeric(amt.split(\":\")[0]) +  pd.to_numeric(amt.split(\":\")[1])/60 for amt in df['Amount of sleep']]"
   ]
  },
  {
   "cell_type": "markdown",
   "metadata": {},
   "source": [
    "# Time series visualisations"
   ]
  },
  {
   "cell_type": "code",
   "execution_count": 68,
   "metadata": {},
   "outputs": [],
   "source": [
    "## Data entry error: accidentally keyed in same row twice:\n",
    "df['Date of night'][df['Date of night'].duplicated()]\n",
    "df['Date of night'].duplicated()\n",
    "\n",
    "## Remove the entry \n",
    "df = df[~df['Date of night'].duplicated()]"
   ]
  },
  {
   "cell_type": "code",
   "execution_count": 69,
   "metadata": {},
   "outputs": [
    {
     "data": {
      "text/html": [
       "<div>\n",
       "<style scoped>\n",
       "    .dataframe tbody tr th:only-of-type {\n",
       "        vertical-align: middle;\n",
       "    }\n",
       "\n",
       "    .dataframe tbody tr th {\n",
       "        vertical-align: top;\n",
       "    }\n",
       "\n",
       "    .dataframe thead th {\n",
       "        text-align: right;\n",
       "    }\n",
       "</style>\n",
       "<table border=\"1\" class=\"dataframe\">\n",
       "  <thead>\n",
       "    <tr style=\"text-align: right;\">\n",
       "      <th></th>\n",
       "      <th>Timestamp</th>\n",
       "      <th>Sleep quality</th>\n",
       "      <th>Deep Sleep duration</th>\n",
       "      <th>Alcohol</th>\n",
       "      <th>Alcohol hours before bed</th>\n",
       "      <th>Full before bed?</th>\n",
       "      <th>Music while sleeping?</th>\n",
       "      <th>Type of music</th>\n",
       "      <th>Caffiene</th>\n",
       "      <th>Exercise</th>\n",
       "      <th>...</th>\n",
       "      <th>Coffee Type</th>\n",
       "      <th>Other</th>\n",
       "      <th>Amount of sleep</th>\n",
       "      <th></th>\n",
       "      <th>blackout eye mask?</th>\n",
       "      <th>Melatonin?</th>\n",
       "      <th>REM sleep</th>\n",
       "      <th>Other</th>\n",
       "      <th>day_of_week</th>\n",
       "      <th>Amount of sleep hours</th>\n",
       "    </tr>\n",
       "  </thead>\n",
       "  <tbody>\n",
       "    <tr>\n",
       "      <th>2024-02-26</th>\n",
       "      <td>26/02/2024 20:08:45</td>\n",
       "      <td>Good</td>\n",
       "      <td>59.0</td>\n",
       "      <td>Yes</td>\n",
       "      <td>7.0</td>\n",
       "      <td>No</td>\n",
       "      <td>Yes</td>\n",
       "      <td></td>\n",
       "      <td>Morning</td>\n",
       "      <td>Football</td>\n",
       "      <td>...</td>\n",
       "      <td></td>\n",
       "      <td></td>\n",
       "      <td>07:46:00</td>\n",
       "      <td></td>\n",
       "      <td></td>\n",
       "      <td></td>\n",
       "      <td></td>\n",
       "      <td></td>\n",
       "      <td>Mon</td>\n",
       "      <td>7.766667</td>\n",
       "    </tr>\n",
       "    <tr>\n",
       "      <th>2024-02-27</th>\n",
       "      <td>27/02/2024 20:04:17</td>\n",
       "      <td>Bad</td>\n",
       "      <td>19.0</td>\n",
       "      <td>None</td>\n",
       "      <td>0.0</td>\n",
       "      <td>Yes</td>\n",
       "      <td>Yes</td>\n",
       "      <td>Sleep classical</td>\n",
       "      <td>Morning</td>\n",
       "      <td>Gym</td>\n",
       "      <td>...</td>\n",
       "      <td></td>\n",
       "      <td></td>\n",
       "      <td>07:17:00</td>\n",
       "      <td></td>\n",
       "      <td></td>\n",
       "      <td></td>\n",
       "      <td></td>\n",
       "      <td></td>\n",
       "      <td>Tue</td>\n",
       "      <td>7.283333</td>\n",
       "    </tr>\n",
       "    <tr>\n",
       "      <th>2024-02-28</th>\n",
       "      <td>28/02/2024 08:20:33</td>\n",
       "      <td>Good</td>\n",
       "      <td>54.0</td>\n",
       "      <td>None</td>\n",
       "      <td>0.0</td>\n",
       "      <td>No</td>\n",
       "      <td>Yes</td>\n",
       "      <td>Binaural beats</td>\n",
       "      <td>Morning</td>\n",
       "      <td></td>\n",
       "      <td>...</td>\n",
       "      <td></td>\n",
       "      <td></td>\n",
       "      <td>08:14:30</td>\n",
       "      <td></td>\n",
       "      <td></td>\n",
       "      <td></td>\n",
       "      <td></td>\n",
       "      <td></td>\n",
       "      <td>Wed</td>\n",
       "      <td>8.233333</td>\n",
       "    </tr>\n",
       "    <tr>\n",
       "      <th>2024-02-29</th>\n",
       "      <td>29/02/2024 08:13:59</td>\n",
       "      <td>Good</td>\n",
       "      <td>58.0</td>\n",
       "      <td>Yes</td>\n",
       "      <td>2.0</td>\n",
       "      <td>No</td>\n",
       "      <td>Yes</td>\n",
       "      <td>Sleeping jazz</td>\n",
       "      <td>Morning</td>\n",
       "      <td>Football + Gym</td>\n",
       "      <td>...</td>\n",
       "      <td>Half flat white</td>\n",
       "      <td></td>\n",
       "      <td>09:30:00</td>\n",
       "      <td></td>\n",
       "      <td></td>\n",
       "      <td></td>\n",
       "      <td></td>\n",
       "      <td></td>\n",
       "      <td>Thu</td>\n",
       "      <td>9.500000</td>\n",
       "    </tr>\n",
       "    <tr>\n",
       "      <th>2024-03-01</th>\n",
       "      <td>01/03/2024 09:07:22</td>\n",
       "      <td>Good</td>\n",
       "      <td>69.0</td>\n",
       "      <td>None</td>\n",
       "      <td>0.0</td>\n",
       "      <td>No</td>\n",
       "      <td>Yes</td>\n",
       "      <td>Binaural</td>\n",
       "      <td>Morning</td>\n",
       "      <td></td>\n",
       "      <td>...</td>\n",
       "      <td>Half flat white</td>\n",
       "      <td></td>\n",
       "      <td>07:40:30</td>\n",
       "      <td></td>\n",
       "      <td></td>\n",
       "      <td></td>\n",
       "      <td></td>\n",
       "      <td></td>\n",
       "      <td>Fri</td>\n",
       "      <td>7.666667</td>\n",
       "    </tr>\n",
       "  </tbody>\n",
       "</table>\n",
       "<p>5 rows × 24 columns</p>\n",
       "</div>"
      ],
      "text/plain": [
       "                      Timestamp Sleep quality  Deep Sleep duration Alcohol  \\\n",
       "2024-02-26  26/02/2024 20:08:45          Good                 59.0     Yes   \n",
       "2024-02-27  27/02/2024 20:04:17           Bad                 19.0    None   \n",
       "2024-02-28  28/02/2024 08:20:33          Good                 54.0    None   \n",
       "2024-02-29  29/02/2024 08:13:59          Good                 58.0     Yes   \n",
       "2024-03-01  01/03/2024 09:07:22          Good                 69.0    None   \n",
       "\n",
       "            Alcohol hours before bed Full before bed? Music while sleeping?  \\\n",
       "2024-02-26                       7.0               No                   Yes   \n",
       "2024-02-27                       0.0              Yes                   Yes   \n",
       "2024-02-28                       0.0               No                   Yes   \n",
       "2024-02-29                       2.0               No                   Yes   \n",
       "2024-03-01                       0.0               No                   Yes   \n",
       "\n",
       "              Type of music Caffiene        Exercise  ...      Coffee Type  \\\n",
       "2024-02-26                   Morning        Football  ...                    \n",
       "2024-02-27  Sleep classical  Morning             Gym  ...                    \n",
       "2024-02-28   Binaural beats  Morning                  ...                    \n",
       "2024-02-29   Sleeping jazz   Morning  Football + Gym  ...  Half flat white   \n",
       "2024-03-01        Binaural   Morning                  ...  Half flat white   \n",
       "\n",
       "           Other Amount of sleep   blackout eye mask? Melatonin? REM sleep  \\\n",
       "2024-02-26              07:46:00                                             \n",
       "2024-02-27              07:17:00                                             \n",
       "2024-02-28              08:14:30                                             \n",
       "2024-02-29              09:30:00                                             \n",
       "2024-03-01              07:40:30                                             \n",
       "\n",
       "           Other day_of_week Amount of sleep hours  \n",
       "2024-02-26               Mon              7.766667  \n",
       "2024-02-27               Tue              7.283333  \n",
       "2024-02-28               Wed              8.233333  \n",
       "2024-02-29               Thu              9.500000  \n",
       "2024-03-01               Fri              7.666667  \n",
       "\n",
       "[5 rows x 24 columns]"
      ]
     },
     "execution_count": 69,
     "metadata": {},
     "output_type": "execute_result"
    }
   ],
   "source": [
    "## To allow smoother curves, we will impute for the missing dates\n",
    "df_full_dates = df.set_index('Date of night').reindex(full_date_range).fillna(0)\n",
    "df_full_dates.head()"
   ]
  },
  {
   "cell_type": "code",
   "execution_count": 70,
   "metadata": {},
   "outputs": [
    {
     "data": {
      "image/png": "[encoded data removed]",
      "text/plain": [
       "<Figure size 432x288 with 1 Axes>"
      ]
     },
     "metadata": {
      "needs_background": "light"
     },
     "output_type": "display_data"
    },
    {
     "data": {
      "image/png": "[encoded data removed]",
      "text/plain": [
       "<Figure size 432x288 with 1 Axes>"
      ]
     },
     "metadata": {
      "needs_background": "light"
     },
     "output_type": "display_data"
    }
   ],
   "source": [
    "## Plot time series for deep sleep\n",
    "sns.lineplot(x = df_full_dates.index, y = df_full_dates['Deep Sleep duration'], \n",
    "             marker='x', markersize = 10, color = 'b', label = 'Deep sleep')\n",
    "plt.ylim(0, 100)\n",
    "plt.title(\"Deep Sleep Duration Over Time\")\n",
    "plt.xlabel(\"Date\")\n",
    "plt.ylabel(\"Duration (minutes)\")\n",
    "plt.xticks(df_full_dates.index[::4], ##interval for tick markers -- only choose every 4 days \n",
    "           df_full_dates.index[::4].strftime('%d%b'), ##label for tick markers \n",
    "           rotation=45, ha='right')\n",
    "\n",
    "## Plot horizontal line for average deep sleep\n",
    "average_deep_sleep = df_full_dates['Deep Sleep duration'].replace(0, float('nan')).mean()\n",
    "plt.axhline(y = average_deep_sleep, color = 'r', linestyle = '--', label = f'Average ({average_deep_sleep:.2f} minutes)')\n",
    "\n",
    "plt.legend()\n",
    "plt.show()\n",
    "\n",
    "##########\n",
    "##########\n",
    "##########\n",
    "## Plot time series for total sleep\n",
    "sns.lineplot(x = df_full_dates.index, y = df_full_dates['Amount of sleep hours'], \n",
    "             marker='x', markersize = 10, color = 'b', label = 'Amount of sleep')\n",
    "plt.title(\"Amount of sleep hours Over Time\")\n",
    "plt.xlabel(\"Date\")\n",
    "plt.ylabel(\"Duration (hours)\")\n",
    "plt.xticks(df_full_dates.index[::4], ##interval for tick markers -- only choose every 4 days \n",
    "           df_full_dates.index[::4].strftime('%d%b'), ##label for tick markers \n",
    "           rotation=45, ha='right')\n",
    "\n",
    "## Plot horizontal line for average deep sleep\n",
    "average_sleep = df_full_dates['Amount of sleep hours'].replace(0, float('nan')).mean()\n",
    "plt.axhline(y = average_sleep, color = 'r', linestyle = '--', label = f'Average ({average_sleep:.2f} hours)')\n",
    "\n",
    "plt.legend()\n",
    "plt.show()\n",
    "\n"
   ]
  },
  {
   "cell_type": "markdown",
   "metadata": {},
   "source": [
    "## Weekly seasonality "
   ]
  },
  {
   "cell_type": "code",
   "execution_count": 71,
   "metadata": {},
   "outputs": [
    {
     "data": {
      "text/plain": [
       "<Figure size 720x432 with 0 Axes>"
      ]
     },
     "metadata": {},
     "output_type": "display_data"
    },
    {
     "data": {
      "image/png": "[encoded data removed]",
      "text/plain": [
       "<Figure size 360x360 with 1 Axes>"
      ]
     },
     "metadata": {
      "needs_background": "light"
     },
     "output_type": "display_data"
    }
   ],
   "source": [
    "# Extract the day of the week (0 = Monday, 6 = Sunday)\n",
    "df_full_dates['Day of Week'] = df_full_dates.index.dayofweek\n",
    "\n",
    "# Drop the 0 values\n",
    "df_full_dates_no_0s = df_full_dates[df_full_dates['Deep Sleep duration']!= 0]\n",
    "\n",
    "# Create a boxplot to show the distribution of deep sleep duration for each day\n",
    "plt.figure(figsize=(10, 6))\n",
    "sns.catplot(x='Day of Week', y='Deep Sleep duration', data=df_full_dates_no_0s, palette='Set3')\n",
    "sns.boxplot(x='Day of Week', y='Deep Sleep duration', data=df_full_dates_no_0s,  boxprops=dict(alpha=.3))\n",
    "\n",
    "plt.ylim(0,100)\n",
    "plt.xlabel(\"Day of the Week\")\n",
    "plt.ylabel(\"Deep Sleep Duration (minutes)\")\n",
    "plt.title(\"Distribution of Deep Sleep Duration by Day of the Week\")\n",
    "plt.xticks(range(7), ['Mon', 'Tue', 'Wed', 'Thu', 'Fri', 'Sat', 'Sun'])\n",
    "\n",
    "# Show the plot\n",
    "plt.tight_layout()\n",
    "plt.show()"
   ]
  },
  {
   "cell_type": "markdown",
   "metadata": {},
   "source": [
    "A very interesting pattern emerges: Sunday - Monday gives me the worst sleep, but this slowly improves over the week, reaching relatively high deep sleep on Saturday - Sunday.\n",
    "\n",
    "This could be tied to work stress, or the anticipation of work. It could also reflect the seasonality of moods, which stereotypically hit a low after Sunday ('Monday blues'), but improves over the week.\n",
    "\n",
    "We run a quantitative test to see if there is a significant difference:\n",
    "\n",
    "Using the **Kruskal Wallis H Test**. From [Wikipedia](https://en.wikipedia.org/wiki/Kruskal%E2%80%93Wallis_test):\n",
    "\n",
    "* *The Kruskal–Wallis test by ranks, Kruskal–Wallis test[1] (named after William Kruskal and W. Allen Wallis), or one-way ANOVA on ranks[1] is a non-parametric method for testing whether samples originate from the same distribution.[2][3][4] It is used for comparing two or more independent samples of equal or different sample sizes. It extends the Mann–Whitney U test, which is used for comparing only two groups. The parametric equivalent of the Kruskal–Wallis test is the one-way analysis of variance (ANOVA).*"
   ]
  },
  {
   "cell_type": "code",
   "execution_count": 132,
   "metadata": {},
   "outputs": [
    {
     "name": "stdout",
     "output_type": "stream",
     "text": [
      "Kruskal-Wallis H Test result: KruskalResult(statistic=9.844336096687638, pvalue=0.1313622867129213)\n"
     ]
    }
   ],
   "source": [
    "import scipy.stats as stats\n",
    "\n",
    "kruskal_result_day_deep_sleep = stats.kruskal(\n",
    "    df_full_dates[df_full_dates['day_of_week'] == 'Mon']['Deep Sleep duration'],\n",
    "    df_full_dates[df_full_dates['day_of_week'] == 'Tue']['Deep Sleep duration'],\n",
    "    df_full_dates[df_full_dates['day_of_week'] == 'Wed']['Deep Sleep duration'],\n",
    "    df_full_dates[df_full_dates['day_of_week'] == 'Thu']['Deep Sleep duration'],\n",
    "    df_full_dates[df_full_dates['day_of_week'] == 'Fri']['Deep Sleep duration'],\n",
    "    df_full_dates[df_full_dates['day_of_week'] == 'Sat']['Deep Sleep duration'],\n",
    "    df_full_dates[df_full_dates['day_of_week'] == 'Sun']['Deep Sleep duration']\n",
    ")\n",
    "\n",
    "print(\"Kruskal-Wallis H Test result:\", kruskal_result_day_deep_sleep)"
   ]
  },
  {
   "cell_type": "markdown",
   "metadata": {},
   "source": [
    "Based on the results, it looks like the sample size is still too small to get any significance, despite the visual appearance"
   ]
  },
  {
   "cell_type": "markdown",
   "metadata": {},
   "source": [
    "# Bivariate relationships "
   ]
  },
  {
   "cell_type": "markdown",
   "metadata": {},
   "source": [
    "## Relationship between deep sleep and perceived quality"
   ]
  },
  {
   "cell_type": "code",
   "execution_count": 90,
   "metadata": {},
   "outputs": [],
   "source": [
    "# !pip install joypy\n",
    "import joypy \n",
    "from matplotlib import cm\n"
   ]
  },
  {
   "cell_type": "code",
   "execution_count": 92,
   "metadata": {},
   "outputs": [
    {
     "name": "stderr",
     "output_type": "stream",
     "text": [
      "/Users/iantan/opt/anaconda3/lib/python3.9/site-packages/joypy/joyplot.py:435: UserWarning: To output multiple subplots, the figure containing the passed axes is being cleared.\n",
      "  fig, axes = _subplots(naxes=num_axes, ax=ax, squeeze=False,\n"
     ]
    },
    {
     "data": {
      "image/png": "[encoded data removed]",
      "text/plain": [
       "<Figure size 432x432 with 4 Axes>"
      ]
     },
     "metadata": {
      "needs_background": "light"
     },
     "output_type": "display_data"
    }
   ],
   "source": [
    "fig, ax = plt.subplots(figsize=(6, 6))\n",
    "joyplot = joypy.joyplot(df, by='Sleep quality', column='Deep Sleep duration', \n",
    "                         kind='kde', fill=True, linecolor=\"blue\", ax=ax, colormap=cm.autumn_r)\n",
    "\n",
    "# Add titles and labels\n",
    "plt.title('Joyplot of Deep Sleep Duration over Sleep Quality')\n",
    "plt.xlabel('Deep Sleep Duration (hours)')\n",
    "plt.ylabel('Sleep Quality')\n",
    "\n",
    "plt.tight_layout()\n",
    "plt.show()"
   ]
  },
  {
   "cell_type": "code",
   "execution_count": 111,
   "metadata": {},
   "outputs": [
    {
     "data": {
      "image/png": "[encoded data removed]",
      "text/plain": [
       "<Figure size 360x360 with 1 Axes>"
      ]
     },
     "metadata": {
      "needs_background": "light"
     },
     "output_type": "display_data"
    }
   ],
   "source": [
    "sns.catplot(y='Deep Sleep duration', data=df, x='Sleep quality', palette='Set2',\n",
    "            order = ['Bad', 'OK', 'Good'])\n",
    "sns.boxplot(y='Deep Sleep duration', data=df, x='Sleep quality', palette='Set2',\n",
    "            order = ['Bad', 'OK', 'Good'], boxprops = dict(alpha = 0.4))\n",
    "plt.title('Does deep sleep affect perception of sleep quality')\n",
    "plt.show()"
   ]
  },
  {
   "cell_type": "markdown",
   "metadata": {},
   "source": [
    "If we treat the Sleep Quality as ordinal, we can see if there is a correlation. \n",
    "\n",
    "Specifically, we can see the spearman correlation and get its statistical significance.\n",
    "\n"
   ]
  },
  {
   "cell_type": "code",
   "execution_count": 202,
   "metadata": {},
   "outputs": [
    {
     "name": "stdout",
     "output_type": "stream",
     "text": [
      "Spearman correlation: 0.3257888546729667 P-value: 0.019650023203838227\n",
      "Pearson correlation: 0.3390802673540802 P-value: 0.014929913340159893\n"
     ]
    }
   ],
   "source": [
    "df['Sleep quality ordinal'] = df['Sleep quality'].map({'Bad': 0, 'OK': 1, 'Good':2})\n",
    "\n",
    "# Get correlation coefficient and the associated p value\n",
    "spearman_corr, p_value = stats.spearmanr(df['Sleep quality'], df['Deep Sleep duration'])\n",
    "print(\"Spearman correlation:\", spearman_corr, \"P-value:\", p_value)\n",
    "\n",
    "pearson, p_value = stats.pearsonr(df['Sleep quality ordinal'], df['Deep Sleep duration'])\n",
    "print(\"Pearson correlation:\", pearson, \"P-value:\", p_value)\n"
   ]
  },
  {
   "cell_type": "code",
   "execution_count": 150,
   "metadata": {},
   "outputs": [
    {
     "data": {
      "image/png": "[encoded data removed]",
      "text/plain": [
       "<Figure size 432x288 with 1 Axes>"
      ]
     },
     "metadata": {
      "needs_background": "light"
     },
     "output_type": "display_data"
    }
   ],
   "source": [
    "sns.regplot(x = df['Sleep quality ordinal'], y = df['Deep Sleep duration'])\n",
    "plt.title('Perceived Quality against Deep Sleep')\n",
    "plt.text(y = 70,x = 0.3, s = f'R: {pearson:.2f}, \\np-value: {p_value:.2f}')\n",
    "plt.show()"
   ]
  },
  {
   "cell_type": "markdown",
   "metadata": {},
   "source": [
    "In both metrics, we see a positive correlation. However this may be due to the downward shift of the deep sleep distribution for 'Bad' sleep, while it is hard to distinguish between 'OK' and 'Good'. In fact, the central tendency of the latter two are similar, but 'OK' has a much wider variance"
   ]
  },
  {
   "cell_type": "markdown",
   "metadata": {},
   "source": [
    "If instead we treat it as nominal categorical (i.e. no inherent order), we can run multiple Mann Whitney pairwise tests, taking into the higher type 1 error due to multiple testing."
   ]
  },
  {
   "cell_type": "code",
   "execution_count": 142,
   "metadata": {},
   "outputs": [
    {
     "name": "stdout",
     "output_type": "stream",
     "text": [
      "(146.0, 0.0023294203884646103)\n",
      "(205.0, 0.9894371937518622)\n",
      "(46.0, 0.005415373119780607)\n"
     ]
    }
   ],
   "source": [
    "def pairwise_wilcoxon(group1, group2):\n",
    "    group1_data = df[df['Sleep quality'] == group1]['Deep Sleep duration']\n",
    "    group2_data = df[df['Sleep quality'] == group2]['Deep Sleep duration']\n",
    "    stat, p = stats.mannwhitneyu(group1_data, group2_data)\n",
    "    return stat, p\n",
    "\n",
    "print(pairwise_wilcoxon('Good', 'Bad'))\n",
    "print(pairwise_wilcoxon('Good', 'OK'))\n",
    "print(pairwise_wilcoxon('Bad', 'OK'))\n"
   ]
  },
  {
   "cell_type": "markdown",
   "metadata": {},
   "source": [
    "As we can see, 'Good' and 'Bad' sleep are indistinguishable currently simply by looking at deep sleep amount.\n",
    "\n",
    "It is likely that sleep perception is influenced not only by deep sleep, but also having a good balance of the other sleep stages, such as REM sleep, that we are not looking at in this mini study."
   ]
  },
  {
   "cell_type": "markdown",
   "metadata": {},
   "source": [
    "# Exercise and calories"
   ]
  },
  {
   "cell_type": "markdown",
   "metadata": {},
   "source": [
    "Currently, my main form of exercise are: walks, football and gym. I love to keep fit, and find myself frequently exercising everyday. \n",
    "\n",
    "Research shows that exercise may be able to aid in non-REM, slow wave sleep. However the exact mechanism remains [unknown](https://www.hopkinsmedicine.org/health/wellness-and-prevention/exercising-for-better-sleep#:~:text=However%2C%20we%20do%20know%20that,have%20a%20chance%20to%20rejuvenate.) and the effects of particular types of exercise, such as anaerobic or weight lifting, has yet to established.  "
   ]
  },
  {
   "cell_type": "markdown",
   "metadata": {},
   "source": [
    "## Types of exercise and calories burnt"
   ]
  },
  {
   "cell_type": "code",
   "execution_count": 166,
   "metadata": {},
   "outputs": [
    {
     "data": {
      "text/plain": [
       "Index(['Timestamp', 'Sleep quality', 'Deep Sleep duration', 'Alcohol',\n",
       "       'Alcohol hours before bed', 'Full before bed?', 'Music while sleeping?',\n",
       "       'Type of music', 'Caffiene', 'Exercise', 'Calories count', 'Game',\n",
       "       'Date of the night', 'chamomile', 'Coffee Type', 'Other',\n",
       "       'Amount of sleep', '', 'blackout eye mask?', 'Melatonin?', 'REM sleep',\n",
       "       'Other', 'Date of night', 'day_of_week', 'Amount of sleep hours',\n",
       "       'Sleep quality ordinal'],\n",
       "      dtype='object')"
      ]
     },
     "execution_count": 166,
     "metadata": {},
     "output_type": "execute_result"
    }
   ],
   "source": [
    "df.columns"
   ]
  },
  {
   "cell_type": "code",
   "execution_count": 174,
   "metadata": {},
   "outputs": [
    {
     "data": {
      "text/plain": [
       "Gym               22\n",
       "Football          14\n",
       "None              11\n",
       "Football + Gym     3\n",
       "Swim               1\n",
       "Name: Exercise, dtype: int64"
      ]
     },
     "execution_count": 174,
     "metadata": {},
     "output_type": "execute_result"
    }
   ],
   "source": [
    "df['Exercise'] = df['Exercise'].fillna('None')\n",
    "df['Exercise'] = df['Exercise'].apply(lambda x: 'None' if x == '' else x)\n",
    "df['Exercise'] = df['Exercise'].apply(lambda x: 'Football + Gym' if x.strip() == 'Both' else x)\n",
    "df['Exercise'].value_counts()"
   ]
  },
  {
   "cell_type": "code",
   "execution_count": 178,
   "metadata": {},
   "outputs": [
    {
     "data": {
      "image/png": "[encoded data removed]",
      "text/plain": [
       "<Figure size 360x360 with 1 Axes>"
      ]
     },
     "metadata": {
      "needs_background": "light"
     },
     "output_type": "display_data"
    }
   ],
   "source": [
    "sns.catplot(y='Calories count', data=df, x='Exercise', palette='Set2')\n",
    "sns.boxplot(y='Calories count', data=df, x='Exercise', palette='Set2', boxprops = dict(alpha = 0.4))\n",
    "plt.title('Exercise and total day calories')\n",
    "plt.show()"
   ]
  },
  {
   "cell_type": "code",
   "execution_count": 181,
   "metadata": {},
   "outputs": [
    {
     "data": {
      "text/plain": [
       "Exercise\n",
       "Football          1055.500000\n",
       "Football + Gym    1023.333333\n",
       "Gym                557.380952\n",
       "None               447.545455\n",
       "Swim               485.000000\n",
       "Name: Calories count, dtype: float64"
      ]
     },
     "execution_count": 181,
     "metadata": {},
     "output_type": "execute_result"
    }
   ],
   "source": [
    "df.groupby('Exercise')['Calories count'].mean()"
   ]
  },
  {
   "cell_type": "markdown",
   "metadata": {},
   "source": [
    "## Calories on deep sleep"
   ]
  },
  {
   "cell_type": "code",
   "execution_count": 207,
   "metadata": {},
   "outputs": [
    {
     "data": {
      "text/plain": [
       "<AxesSubplot:xlabel='Calories count', ylabel='Deep Sleep duration'>"
      ]
     },
     "execution_count": 207,
     "metadata": {},
     "output_type": "execute_result"
    },
    {
     "data": {
      "image/png": "[encoded data removed]",
      "text/plain": [
       "<Figure size 432x432 with 1 Axes>"
      ]
     },
     "metadata": {
      "needs_background": "light"
     },
     "output_type": "display_data"
    }
   ],
   "source": [
    "fig, ax = plt.subplots(figsize=(6, 6))\n",
    "sns.scatterplot(data = df, y = 'Deep Sleep duration', x = 'Calories count', hue = 'Exercise')\n",
    "sns.regplot(data = df, y = 'Deep Sleep duration', x = 'Calories count', scatter = False)"
   ]
  },
  {
   "cell_type": "code",
   "execution_count": 212,
   "metadata": {},
   "outputs": [
    {
     "name": "stdout",
     "output_type": "stream",
     "text": [
      "Correlation coeff 0.22, p-value 0.12\n"
     ]
    }
   ],
   "source": [
    "calories_ds_pearson, calories_ds_pearson_pval = stats.pearsonr(df['Deep Sleep duration'], df['Calories count'].fillna(df['Calories count'].mean()))\n",
    "print(f'Correlation coeff {calories_ds_pearson:.2f}, p-value {calories_ds_pearson_pval:.2f}')"
   ]
  },
  {
   "cell_type": "code",
   "execution_count": null,
   "metadata": {},
   "outputs": [],
   "source": []
  }
 ],
 "metadata": {
  "kernelspec": {
   "display_name": "base",
   "language": "python",
   "name": "python3"
  },
  "language_info": {
   "codemirror_mode": {
    "name": "ipython",
    "version": 3
   },
   "file_extension": ".py",
   "mimetype": "text/x-python",
   "name": "python",
   "nbconvert_exporter": "python",
   "pygments_lexer": "ipython3",
   "version": "3.9.12"
  }
 },
 "nbformat": 4,
 "nbformat_minor": 2
}
